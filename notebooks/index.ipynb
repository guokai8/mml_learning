{
  "cells": [
    {
      "cell_type": "markdown",
      "metadata": {},
      "source": [
        "# 📚 Multimodal Learning: Interactive Jupyter Guide\n\n",
        "**Author**: Kai Guo (guokai8@gmail.com)\n\n",
        "Welcome to the interactive Jupyter notebook version of the Multimodal Learning guide!\n\n",
        "## 🎯 How to Use These Notebooks\n\n",
        "1. **Start here** - This index provides overview and setup\n",
        "2. **Follow the sequence** - Each notebook builds on previous concepts\n",
        "3. **Run all cells** - Execute code cells to see examples\n",
        "4. **Experiment** - Modify code and parameters to learn\n\n",
        "## 📖 Notebook Sequence\n\n",
        "### Getting Started\n",
        "- [📝 Preface](preface.ipynb) - Why multimodal learning matters\n",
        "- [🎯 How to Use This Book](how-to-use.ipynb) - Learning pathways\n\n",
        "### Core Content\n",
        "1. [🌟 Introduction to Multimodal Learning](chapter-01.ipynb)\n",
        "2. [🏗️ Foundations and Core Concepts](chapter-02.ipynb)\n",
        "3. [🔤 Feature Representation for Each Modality](chapter-03.ipynb)\n",
        "4. [🔗 Feature Alignment and Bridging Modalities](chapter-04.ipynb)\n",
        "5. [🤝 Fusion Strategies](chapter-05.ipynb)\n",
        "6. [👁️ Attention Mechanisms in Multimodal Systems](chapter-06.ipynb)\n",
        "7. [⚡ Contrastive Learning](chapter-07.ipynb)\n",
        "8. [🏛️ Transformer Architecture](chapter-08.ipynb)\n",
        "9. [🎨 Generative Models for Multimodal Data](chapter-09.ipynb)\n",
        "10. [🏆 Seminal Models and Architectures](chapter-10.ipynb)\n",
        "11. [💻 Practical Implementation Guide](chapter-11.ipynb)\n",
        "12. [🚀 Advanced Topics and Future Directions](chapter-12.ipynb)\n\n",
        "### Resources\n",
        "- [📚 Comprehensive Appendix and Resources](appendix.ipynb)\n\n"
      ]
    },
    {
      "cell_type": "markdown",
      "metadata": {},
      "source": [
        "## 🛠️ Environment Setup\n\n",
        "Run the cells below to check your environment and install required packages."
      ]
    },
    {
      "cell_type": "code",
      "execution_count": null,
      "metadata": {},
      "outputs": [],
      "source": [
        "# Check Python version and basic imports\n",
        "import sys\n",
        "print(f\"Python version: {sys.version}\")\n",
        "\n",
        "# Check for GPU availability\n",
        "try:\n",
        "    import torch\n",
        "    print(f\"PyTorch version: {torch.__version__}\")\n",
        "    print(f\"CUDA available: {torch.cuda.is_available()}\")\n",
        "    if torch.cuda.is_available():\n",
        "        print(f\"GPU: {torch.cuda.get_device_name(0)}\")\n",
        "except ImportError:\n",
        "    print(\"PyTorch not installed. Will install in next cell.\")"
      ]
    },
    {
      "cell_type": "code",
      "execution_count": null,
      "metadata": {},
      "outputs": [],
      "source": [
        "# Install all required packages for the course\n",
        "!pip install torch torchvision torchaudio\n",
        "!pip install transformers datasets\n",
        "!pip install numpy matplotlib seaborn pandas\n",
        "!pip install pillow requests ipywidgets\n",
        "!pip install clip-by-openai sentence-transformers\n",
        "!pip install scikit-learn jupyter-widgets\n",
        "\n",
        "print(\"\\n✅ Installation complete! Ready to start learning.\")"
      ]
    },
    {
      "cell_type": "markdown",
      "metadata": {},
      "source": [
        "## 🎓 Learning Recommendations\n\n",
        "### For Beginners\n",
        "Start with: `chapter-01.ipynb` → `chapter-02.ipynb` → `chapter-03.ipynb`\n\n",
        "### For Practitioners  \n",
        "Focus on: `chapter-01.ipynb` → `chapter-07.ipynb` → `chapter-10.ipynb` → `chapter-11.ipynb`\n\n",
        "### For Researchers\n",
        "Complete sequence: All notebooks in order\n\n",
        "## 💡 Tips for Success\n\n",
        "1. **Run cells in order** - Later cells depend on earlier ones\n",
        "2. **Experiment freely** - Modify parameters and see what happens\n",
        "3. **Take notes** - Add your own markdown cells with observations\n",
        "4. **Save regularly** - Jupyter can lose work if browser crashes\n",
        "5. **Ask questions** - Use the exercises to test your understanding\n\n",
        "---\n\n",
        "**Ready to begin?** Start with [Chapter 1: Introduction to Multimodal Learning](chapter-01.ipynb)!"
      ]
    }
  ],
  "metadata": {
    "kernelspec": {
      "display_name": "Python 3",
      "language": "python",
      "name": "python3"
    },
    "language_info": {
      "codemirror_mode": {
        "name": "ipython",
        "version": 3
      },
      "file_extension": ".py",
      "mimetype": "text/x-python",
      "name": "python",
      "nbconvert_exporter": "python",
      "pygments_lexer": "ipython3",
      "version": "3.8.5"
    }
  },
  "nbformat": 4,
  "nbformat_minor": 4
}