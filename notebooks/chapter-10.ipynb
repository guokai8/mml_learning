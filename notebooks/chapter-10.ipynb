{
  "cells": [
    {
      "cell_type": "markdown",
      "metadata": {},
      "source": [
        "# Chapter 10: Seminal Models and Architectures\n\n**Interactive Jupyter Notebook Version**\n\n---"
      ]
    },
    {
      "cell_type": "markdown",
      "metadata": {},
      "source": [
        "# Chapter 10: Seminal Models and Architectures\n\n---\n\n**Previous**: [Chapter 9: Generative Models for Multimodal Data](chapter-09.md) | **Next**: [Chapter 11: Practical Implementation Guide](chapter-11.md) | **Home**: [Table of Contents](index.md)\n\n---"
      ]
    },
    {
      "cell_type": "markdown",
      "metadata": {},
      "source": [
        "# Chapter 10: Seminal Models and Architectures"
      ]
    },
    {
      "cell_type": "markdown",
      "metadata": {},
      "source": [
        "## Learning Objectives\n\nAfter reading this chapter, you should be able to:\n- Understand CLIP's architecture and impact\n- Understand BLIP-2's parameter efficiency approach\n- Understand GPT-4V's multimodal capabilities\n- Compare different model architectures\n- Choose appropriate models for applications"
      ]
    },
    {
      "cell_type": "markdown",
      "metadata": {},
      "source": [
        "## 10.1 CLIP: Learning Transferable Models From Natural Language Supervision"
      ]
    },
    {
      "cell_type": "markdown",
      "metadata": {},
      "source": [
        "### Revolution in Vision Understanding\n\n**Historical context (pre-2021):**"
      ]
    },
    {
      "cell_type": "markdown",
      "metadata": {},
      "source": [
        "```\nVision models trained on ImageNet:\n  1.4 million images\n  1000 fixed classes\n  Cannot generalize to new concepts\n\nProblem:\n  \"Can we classify cats?\" → Pre-trained model: Yes (class exists)\n  \"Can we classify dog breeds?\" → No retraining, poor accuracy\n  \"Can we classify objects in photos from 200 years ago?\" → Completely fails\n\nFundamental limitation:\n  Models learn specific classes\n  Cannot generalize to new concepts\n  Must retrain for new tasks\n```"
      ]
    },
    {
      "cell_type": "markdown",
      "metadata": {},
      "source": [
        "**CLIP solution:**"
      ]
    },
    {
      "cell_type": "markdown",
      "metadata": {},
      "source": [
        "```\nInstead of training on labeled classes,\ntrain on language descriptions directly\n\nKey insight:\n  Images naturally paired with text on internet\n  Text is flexible: can describe anything\n  Use this natural supervision!\n\nDataset: 400 million image-text pairs\nTraining: Contrastive learning\nResult: Zero-shot transfer to any category!\n```"
      ]
    },
    {
      "cell_type": "markdown",
      "metadata": {},
      "source": [
        "### CLIP Architecture\n\n**Components:**"
      ]
    },
    {
      "cell_type": "markdown",
      "metadata": {},
      "source": [
        "```\nImage Encoder:           Text Encoder:\n  Vision Transformer      Transformer\n  Input: 224×224 image    Input: Text tokens\n  Output: 512D vector     Output: 512D vector\n\n                    ↓            ↓\n\n                [L2 Normalize]\n\n                    ↓            ↓\n\n            Similarity Computation\n            (Dot product of normalized)\n                    ↓\n            Contrastive Loss\n```"
      ]
    },
    {
      "cell_type": "markdown",
      "metadata": {},
      "source": [
        "**Training process:**"
      ]
    },
    {
      "cell_type": "markdown",
      "metadata": {},
      "source": [
        "```\nBatch size: 32,768 (massive!)\n\n1. Image-caption pairs sampled\n2. Encode all images: 32k × 512\n3. Encode all captions: 32k × 512\n4. Compute 32k × 32k similarity matrix\n5. Apply contrastive loss\n   - Diagonal elements (matched pairs) should be high\n   - Off-diagonal elements (mismatches) should be low\n6. Backprop and update\n\nRequires:\n  - Multiple GPUs (distributed training)\n  - Efficient operations (all at batch size 32k)\n  - 2 weeks of training on TPU clusters\n```"
      ]
    },
    {
      "cell_type": "markdown",
      "metadata": {},
      "source": [
        "### Zero-Shot Transfer\n\n**How it works:**"
      ]
    },
    {
      "cell_type": "markdown",
      "metadata": {},
      "source": [
        "```\nNew task: Classify dog breeds\n\nStep 1: Create text templates\n  \"a photo of a {breed}\"\n\n  Breeds: Golden Retriever, Labrador, Poodle, ...\n\nStep 2: Encode all templates\n  text_embeddings = text_encoder(templates)\n\nStep 3: For test image\n  image_embedding = image_encoder(image)\n\n  similarities = image_embedding · text_embeddings\n\n  Prediction = argmax(similarities)\n\nNo training on dog breeds needed!\nNever seen dog breed data!\nStill achieves good accuracy!\n\nExample results:\n  Image: [Golden Retriever photo]\n\n  Similarities:\n    \"a photo of a Golden Retriever\": 0.95 ← Highest\n    \"a photo of a Labrador\": 0.72\n    \"a photo of a Poodle\": 0.68\n    ...\n\n  Prediction: Golden Retriever ✓\n```"
      ]
    },
    {
      "cell_type": "markdown",
      "metadata": {},
      "source": [
        "**Why templates matter:**"
      ]
    },
    {
      "cell_type": "markdown",
      "metadata": {},
      "source": [
        "```\nGood template: \"a photo of a {}\"\n  Anchors description to visual domain\n  Natural phrasing matches training data\n\nBad template: \"a {}\"\n  Too ambiguous\n  Could mean drawing, word, concept\n  Confuses encoder\n\nOptimal performance needs:\n  Multiple diverse templates\n  Hand-tuning per domain\n```"
      ]
    },
    {
      "cell_type": "markdown",
      "metadata": {},
      "source": [
        "### Benchmark Results\n\n**ImageNet evaluation:**"
      ]
    },
    {
      "cell_type": "markdown",
      "metadata": {},
      "source": [
        "```\nZero-shot CLIP-ViT-L:  62.8%\nResNet-50 supervised:  76.1%\n\nGap exists, but context matters:\n  CLIP: No labeled ImageNet data\n        Trained on raw internet\n        Immediately generalizable\n\n  ResNet: Trained on 1.4M labeled ImageNet\n          Specific to those 1000 classes\n          Needs fine-tuning for new tasks\n\nTransfer comparison:\n\nImageNet 1% labeled:\n  CLIP fine-tuned: 76.3%\n  Supervised ResNet (1% labels): 30-40%\n\n  CLIP is 2-3× more data-efficient!\n\nStanford Cars (fine-tuning):\n  CLIP linear probe: 94.1%\n  ResNet-50 fine-tuned: 92.8%\n\n  CLIP transfers better!\n```"
      ]
    },
    {
      "cell_type": "markdown",
      "metadata": {},
      "source": [
        "### Impact on Field\n\n**Before CLIP (pre-2021):**"
      ]
    },
    {
      "cell_type": "markdown",
      "metadata": {},
      "source": [
        "```\nVision = ImageNet classification\nEvaluation = Classification accuracy\nTransfer = Fine-tuning on new task\nZero-shot = Not really done\n```"
      ]
    },
    {
      "cell_type": "markdown",
      "metadata": {},
      "source": [
        "**After CLIP (post-2021):**"
      ]
    },
    {
      "cell_type": "markdown",
      "metadata": {},
      "source": [
        "```\nVision = Multimodal understanding\nEvaluation = Zero-shot transfer metrics\nTransfer = No fine-tuning needed\nZero-shot = Standard approach\n```"
      ]
    },
    {
      "cell_type": "markdown",
      "metadata": {},
      "source": [
        "**Cascading impact:**"
      ]
    },
    {
      "cell_type": "markdown",
      "metadata": {},
      "source": [
        "```\nCLIP (Apr 2021): Language-supervised vision\n    ↓\nDALL-E (Jan 2021, but validated by CLIP)\n    → Text-to-image with language understanding\n    ↓\nFlamingo (Apr 2022): Vision-language models\n    ↓\nLLaVA (Apr 2023): Vision + large language models\n    ↓\nGPT-4V (Sep 2023): Multimodal reasoning\n\nEach step enabled by CLIP's success\n```"
      ]
    },
    {
      "cell_type": "markdown",
      "metadata": {},
      "source": [
        "## 10.2 BLIP-2: Bootstrapping Language-Image Pre-training with Frozen Image Encoders"
      ]
    },
    {
      "cell_type": "markdown",
      "metadata": {},
      "source": [
        "### Context and Motivation\n\n**Problem after CLIP:**"
      ]
    },
    {
      "cell_type": "markdown",
      "metadata": {},
      "source": [
        "```\nCLIP effective but:\n  - Fine-tuning expensive\n  - Need task-specific tuning\n  - Limited reasoning capability\n\nVision-language models:\n  - Powerful but slow (billion+ parameters)\n  - Require massive compute\n  - Not accessible\n\nQuestion: Can we get SOTA with small model?\nSolution: BLIP-2 parameter-efficient approach\n```"
      ]
    },
    {
      "cell_type": "markdown",
      "metadata": {},
      "source": [
        "### BLIP-2 Architecture\n\n**Key innovation: Frozen encoders + lightweight connector**"
      ]
    },
    {
      "cell_type": "markdown",
      "metadata": {},
      "source": [
        "```\n                ┌─ Frozen Vision Encoder\n                │  (pre-trained, not updated)\n                │\nImage input ────┤\n                │\n                └─ Lightweight connector\n                   (trainable, small)\n                         │\n                         ↓\n                   Shared representation\n                         ↓\nLanguage model ────── Q-Former\n(frozen)          (trainable, small)\n                         │\n                Text input\n```"
      ]
    },
    {
      "cell_type": "markdown",
      "metadata": {},
      "source": [
        "**Q-Former (Query Transformer):**"
      ]
    },
    {
      "cell_type": "markdown",
      "metadata": {},
      "source": [
        "```\nPurpose: Bridge between vision and language\n\nArchitecture:\n  - 12 Transformer layers\n  - 8 attention heads\n  - ~300M parameters (small!)\n\n  But connects:\n    Frozen image encoder (2048D features)\n    Frozen language model (2048D embedding)\n\nQuery mechanism:\n  - Learns learnable query vectors\n  - Query vectors attend to image features\n  - Extracts information without changing image encoder\n  - Output: Fixed number of tokens\n```"
      ]
    },
    {
      "cell_type": "markdown",
      "metadata": {},
      "source": [
        "**Training strategy:**"
      ]
    },
    {
      "cell_type": "markdown",
      "metadata": {},
      "source": [
        "```\nStep 1: Vision-Language Pre-training\n  Dataset: 129M image-text pairs\n  Loss: Contrastive + caption matching\n  Time: 1 week on 80 A100 GPUs\n\n  Result: Q-Former learns to extract visual information\n\nStep 2: Instruction Tuning (Optional)\n  Dataset: Instruction-following examples\n  Fine-tune Q-Former and language model\n  Time: Few hours\n\n  Result: Follows instructions better\n```"
      ]
    },
    {
      "cell_type": "markdown",
      "metadata": {},
      "source": [
        "### Why It Works\n\n**Efficiency gains:**"
      ]
    },
    {
      "cell_type": "markdown",
      "metadata": {},
      "source": [
        "```\nCLIP approach:\n  Train image encoder: 2 weeks\n  Train text encoder: 2 weeks\n  Aligned: 2 weeks\n  Total: 6 weeks\n  Parameters: 300M (image) + 150M (text) = 450M trained\n\nBLIP-2 approach:\n  Use pre-trained frozen encoders\n  Train tiny Q-Former: 3 days\n  Total: 3 days\n  Parameters: 300M trained (Q-Former)\n\n  100× faster!\n  Same performance!\n```"
      ]
    },
    {
      "cell_type": "markdown",
      "metadata": {},
      "source": [
        "**Information flow:**"
      ]
    },
    {
      "cell_type": "markdown",
      "metadata": {},
      "source": [
        "```\nVision encoder captures:\n  - Object detection\n  - Spatial understanding\n  - Visual patterns\n\nQ-Former bottleneck:\n  - Must compress high-level concepts\n  - Learns what information matters\n  - Efficient transfer to language\n\nLanguage model:\n  - Already trained on huge text corpus\n  - Strong reasoning capabilities\n  - Leveraged for vision-language tasks\n```"
      ]
    },
    {
      "cell_type": "markdown",
      "metadata": {},
      "source": [
        "### BLIP-2 Capabilities\n\n**Image understanding:**"
      ]
    },
    {
      "cell_type": "markdown",
      "metadata": {},
      "source": [
        "```\nImage: [Cat on couch]\n\nQ: \"What's in the image?\"\nA: \"A cat is relaxing on a couch\"\n\nQ: \"What color is the cat?\"\nA: \"The cat appears to be orange or ginger colored\"\n\nQ: \"Why might the cat be on the couch?\"\nA: \"Cats often rest on couches because they are comfortable\n   and provide a good vantage point for observing surroundings\"\n\nReasoning capability comes from:\n  Frozen language model\n  Q-Former alignment\n  Instruction tuning\n```"
      ]
    },
    {
      "cell_type": "markdown",
      "metadata": {},
      "source": [
        "**Visual question answering:**"
      ]
    },
    {
      "cell_type": "markdown",
      "metadata": {},
      "source": [
        "```\nImage: [Busy street scene]\nQuestion: \"How many people can you see?\"\n\nProcessing:\n  1. Extract features from image via frozen encoder\n  2. Q-Former compresses to meaningful tokens\n  3. Append question\n  4. Language model generates answer\n  5. \"I can see approximately 7-8 people in the image\"\n```"
      ]
    },
    {
      "cell_type": "markdown",
      "metadata": {},
      "source": [
        "**Image-text retrieval:**"
      ]
    },
    {
      "cell_type": "markdown",
      "metadata": {},
      "source": [
        "```\nUse Q-Former output as image representation\nMatch with text embeddings from language model\n\nImage encoder → Q-Former → representation\nText → Language model → representation\n\nSimilarity: cos(image_rep, text_rep)\nHigh similarity: Retrieved as match\n```"
      ]
    },
    {
      "cell_type": "markdown",
      "metadata": {},
      "source": [
        "### Benchmark Results\n\n**Performance comparison:**"
      ]
    },
    {
      "cell_type": "markdown",
      "metadata": {},
      "source": [
        "```\n                CLIP        BLIP-2      BLIP-2 + InstInst\n────────────────────────────────────────────────────────\nFlickr30K      86.3%       88.6%        90.1%\nCOCO           65.4%       71.6%        75.8%\nVQA v2         82.4%       83.2%        84.5%\n\nBLIP-2 better in almost every metric\nWith instruction tuning, achieves SOTA\nAll with frozen encoders!\n```"
      ]
    },
    {
      "cell_type": "markdown",
      "metadata": {},
      "source": [
        "**Efficiency:**"
      ]
    },
    {
      "cell_type": "markdown",
      "metadata": {},
      "source": [
        "```\nParameter comparison:\n\nCLIP-ViT-L:\n  Image: 303M\n  Text: 123M\n  Total: 426M (all trainable)\n\nBLIP-2:\n  Image: 303M (frozen)\n  Q-Former: 300M (trainable)\n  Language model: 1.3B (frozen)\n  Total: 1.6B (but only 300M trained!)\n\nTraining time:\n  CLIP: 2 weeks\n  BLIP-2: 3 days (30× faster!)\n\nInference memory:\n  CLIP: Load both encoders (~400M)\n  BLIP-2: Load all three (~1.6B) but frozen ones optimized\n          Total inference: comparable\n```"
      ]
    },
    {
      "cell_type": "markdown",
      "metadata": {},
      "source": [
        "## 10.3 GPT-4V: Multimodal Reasoning"
      ]
    },
    {
      "cell_type": "markdown",
      "metadata": {},
      "source": [
        "### Revolutionary Capabilities\n\n**What makes it different:**"
      ]
    },
    {
      "cell_type": "markdown",
      "metadata": {},
      "source": [
        "```\nBefore GPT-4V:\n  Vision = Classification, detection, captioning\n  Reasoning = Mostly on text\n  Multimodal = Aligned representations, limited reasoning\n\nGPT-4V:\n  Vision = Understanding visual complexity\n  Reasoning = Deep reasoning on images\n  Multimodal = Joint reasoning with language\n```"
      ]
    },
    {
      "cell_type": "markdown",
      "metadata": {},
      "source": [
        "### Examples of Capabilities\n\n**Example 1: Complex visual reasoning**"
      ]
    },
    {
      "cell_type": "markdown",
      "metadata": {},
      "source": [
        "```\nImage: [Complex chart with multiple time series]\n\nUser: \"What trend does this chart show?\"\n\nGPT-4V: \"The chart shows four time series from 2010-2023.\n  - Series A (blue): Steady decline from 100 to 40\n  - Series B (red): Volatile, peaks 2015, valley 2020\n  - Series C (green): Gradual increase\n  - Series D (orange): Cyclical pattern\n\n  Overall: Diverging trends suggest different underlying factors\"\n\nNot just captioning - actual data analysis!\n```"
      ]
    },
    {
      "cell_type": "markdown",
      "metadata": {},
      "source": [
        "**Example 2: Document understanding**"
      ]
    },
    {
      "cell_type": "markdown",
      "metadata": {},
      "source": [
        "```\nImage: [Scanned business letter]\n\nUser: \"Extract the invoice number and total amount\"\n\nGPT-4V: \"Invoice Number: INV-2024-05-12345\n         Total Amount: $2,459.87\"\n\nUnderstands document structure\nExtracts relevant information\nHandles poor quality scans\n```"
      ]
    },
    {
      "cell_type": "markdown",
      "metadata": {},
      "source": [
        "**Example 3: Reasoning about composition**"
      ]
    },
    {
      "cell_type": "markdown",
      "metadata": {},
      "source": [
        "```\nImage: [Painting composition analysis]\n\nUser: \"Analyze the compositional technique in this painting\"\n\nGPT-4V: \"This painting uses rule of thirds compositionally:\n  - Main subject (woman) positioned at intersection of thirds\n  - Horizon line at upper third line\n  - Warm lighting on subject, cool lighting background\n  - Diagonal lead lines draw eye to subject\n\n  The artist effectively guides viewer attention through\n  deliberate placement and color contrast\"\n\nArt criticism level analysis!\n```"
      ]
    },
    {
      "cell_type": "markdown",
      "metadata": {},
      "source": [
        "### Architecture (Inferred)\n\n**Likely design (exact details not public):**"
      ]
    },
    {
      "cell_type": "markdown",
      "metadata": {},
      "source": [
        "```\nVision encoder:\n  Likely ViT-based or custom\n  Processes image at multiple resolutions\n  Extracts hierarchical features\n\nFeature extraction:\n  Multiple image patches at different scales\n  Attention to different regions\n  Global and local features\n\nIntegration with language model:\n  Features converted to tokens\n  Inserted into language model token sequence\n  Language model processes mixed modality input\n\nLanguage model:\n  GPT-4 core (text foundation)\n  Extended to handle vision tokens\n  Uses cross-attention to integrate vision\n  Can reason about images like language\n\nProcessing:\n  Image → Tokenize as vision tokens\n  Text → Tokenize as text tokens\n  Mixed → Process through transformer\n  Output: Text reasoning about image\n```"
      ]
    },
    {
      "cell_type": "markdown",
      "metadata": {},
      "source": [
        "**Inference process:**"
      ]
    },
    {
      "cell_type": "markdown",
      "metadata": {},
      "source": [
        "```\nUser input: Image + text question\n\n1. Process image\n   Convert to vision tokens\n   Hierarchical extraction\n   Result: ~100-1000 vision tokens\n\n2. Concatenate with text\n   [Image tokens] + [Question tokens]\n   Single token sequence\n\n3. Process through language model\n   Transformer attends to all tokens\n   Cross-modal reasoning\n\n4. Generate response\n   Autoregressive text generation\n   Condition on image + question\n\nReasoning capability:\n  Language model reasons about vision tokens\n  Same as reasoning about text\n  But tokens encode visual information\n```"
      ]
    },
    {
      "cell_type": "markdown",
      "metadata": {},
      "source": [
        "### Capabilities and Limitations\n\n**Strong capabilities:**"
      ]
    },
    {
      "cell_type": "markdown",
      "metadata": {},
      "source": [
        "```\n✓ Complex reasoning about images\n✓ Document and form understanding\n✓ Visual common sense\n✓ Temporal reasoning (video understanding)\n✓ Following fine-grained instructions\n✓ Reasoning about text in images\n✓ Compositional understanding\n```"
      ]
    },
    {
      "cell_type": "markdown",
      "metadata": {},
      "source": [
        "**Limitations:**"
      ]
    },
    {
      "cell_type": "markdown",
      "metadata": {},
      "source": [
        "```\n✗ Spatial relationships (exact positions)\n✗ Counting small objects (>10 items unreliable)\n✗ Reading all text perfectly (OCR still struggles)\n✗ 3D understanding (limited depth reasoning)\n✗ Medical diagnosis (not trained for this)\n✗ Legal decisions (not legal advice)\n```"
      ]
    },
    {
      "cell_type": "markdown",
      "metadata": {},
      "source": [
        "### Usage and Access\n\n**Availability:**"
      ]
    },
    {
      "cell_type": "markdown",
      "metadata": {},
      "source": [
        "```\nModel: GPT-4V\nAccess: OpenAI API (paid)\nCost: $0.03 per 1K image tokens\n      (roughly $0.01-0.03 per image depending on size)\n\nAlternatives (open-source):\n  LLaVA: Free, open-source, weaker but good\n  Flamingo: DeepMind, accessible via API\n  Claude 3 Vision: Anthropic, competitive\n  Gemini Pro Vision: Google, competitive\n```"
      ]
    },
    {
      "cell_type": "markdown",
      "metadata": {},
      "source": [
        "### Practical Usage Example\n\n```python\nimport openai\n\nclass GPT4VisionAnalyzer:\n    def __init__(self, api_key):\n        openai.api_key = api_key\n\n    def analyze_image(self, image_url, query):\n        \"\"\"\n        Analyze image using GPT-4V\n\n        Args:\n            image_url: URL of image\n            query: Question or instruction\n\n        Returns:\n            Analysis text\n        \"\"\"\n        response = openai.ChatCompletion.create(\n            model=\"gpt-4-vision-preview\",\n            messages=[\n                {\n                    \"role\": \"user\",\n                    \"content\": [\n                        {\n                            \"type\": \"image_url\",\n                            \"image_url\": {\"url\": image_url}\n                        },\n                        {\n                            \"type\": \"text\",\n                            \"text\": query\n                        }\n                    ]\n                }\n            ],\n            max_tokens=1024\n        )\n\n        return response.choices[0].message.content\n\n    def analyze_local_image(self, image_path, query):\n        \"\"\"Analyze local image by encoding to base64\"\"\"\n        import base64\n\n        with open(image_path, \"rb\") as image_file:\n            base64_image = base64.b64encode(image_file.read()).decode('utf-8')\n\n        # Determine image type\n        image_type = \"jpeg\" if image_path.endswith(\".jpg\") else \"png\"\n\n        response = openai.ChatCompletion.create(\n            model=\"gpt-4-vision-preview\",\n            messages=[\n                {\n                    \"role\": \"user\",\n                    \"content\": [\n                        {\n                            \"type\": \"image_url\",\n                            \"image_url\": {\n                                \"url\": f\"data:image/{image_type};base64,{base64_image}\"\n                            }\n                        },\n                        {\n                            \"type\": \"text\",\n                            \"text\": query\n                        }\n                    ]\n                }\n            ],\n            max_tokens=1024\n        )\n\n        return response.choices[0].message.content"
      ]
    },
    {
      "cell_type": "markdown",
      "metadata": {},
      "source": [
        "# Usage\nanalyzer = GPT4VisionAnalyzer(\"your-api-key\")"
      ]
    },
    {
      "cell_type": "markdown",
      "metadata": {},
      "source": [
        "# Analyze image from URL\nresult = analyzer.analyze_image(\n    \"https://example.com/image.jpg\",\n    \"Describe the scene and identify key objects\"\n)\nprint(result)"
      ]
    },
    {
      "cell_type": "markdown",
      "metadata": {},
      "source": [
        "# Analyze local image\nresult = analyzer.analyze_local_image(\n    \"path/to/image.png\",\n    \"What problem does this diagram illustrate?\"\n)\nprint(result)\n```"
      ]
    },
    {
      "cell_type": "markdown",
      "metadata": {},
      "source": [
        "## 10.4 Vision Transformers (ViT)"
      ]
    },
    {
      "cell_type": "markdown",
      "metadata": {},
      "source": [
        "### Architecture Deep Dive\n\n**From CNN to ViT:**"
      ]
    },
    {
      "cell_type": "markdown",
      "metadata": {},
      "source": [
        "```\nCNN (Convolutional Neural Network):\n  ├─ Inductive bias: Locality (nearby pixels related)\n  ├─ Receptive field: Grows with depth\n  ├─ Properties: Equivariance to translation\n  └─ Requirement: Medium datasets\n\nViT (Vision Transformer):\n  ├─ Inductive bias: Minimal (pure attention)\n  ├─ Receptive field: Global from layer 1\n  ├─ Properties: No built-in translation equivariance\n  └─ Requirement: Large datasets (billions)\n\nTrade-off:\n  CNN: Efficient with data, learns locality\n  ViT: Requires more data, learns general patterns\n\n  With sufficient data: ViT often wins\n```"
      ]
    },
    {
      "cell_type": "markdown",
      "metadata": {},
      "source": [
        "**Detailed architecture:**"
      ]
    },
    {
      "cell_type": "markdown",
      "metadata": {},
      "source": [
        "```\nInput: 224×224×3 image\n\nStep 1: Patch embedding\n  Divide into 16×16 patches\n  14×14 = 196 patches\n  Each patch: 16×16×3 = 768D\n  Project to 768D embedding\n  Result: 196×768 tokens\n\nStep 2: Add special tokens\n  [CLS] token (for classification)\n  [DIST] token (for distillation, optional)\n  Result: 197 tokens (or 198)\n\nStep 3: Positional encoding\n  Sinusoidal or learnable encoding\n  Absolute positions (not relative)\n  Same 768D as embeddings\n  Result: 197×768 tokens with position info\n\nStep 4: 12-layer transformer encoder\n  Layer i:\n    ├─ Multi-head self-attention (12 heads)\n    │  └─ Each token attends to all 197 tokens\n    │\n    ├─ Add & Normalize (residual + layer norm)\n    │\n    ├─ Feed-forward network (3072D intermediate)\n    │\n    └─ Add & Normalize\n\n  After each layer: Tokens refined by context\n\n  Final layer output: 197×768 tokens\n\nStep 5: Classification\n  Extract [CLS] token: 768D\n  Linear layer: 768D → num_classes\n  Softmax → probabilities\n```"
      ]
    },
    {
      "cell_type": "markdown",
      "metadata": {},
      "source": [
        "**Self-attention in ViT:**"
      ]
    },
    {
      "cell_type": "markdown",
      "metadata": {},
      "source": [
        "```\nEach layer: All tokens attend to all tokens\n\nComplexity: O(n²) where n = 196\n  Attention matrix: 196×196\n  For 224×224: 49,984 similarities computed\n\nFeasibility:\n  Modern GPU: Can handle easily\n  Fast enough for training\n  Inference: ~100ms per image\n\nBenefit:\n  Every patch sees every other patch\n  Global context from start\n  Long-range dependencies captured\n```"
      ]
    },
    {
      "cell_type": "markdown",
      "metadata": {},
      "source": [
        "### ViT Variants\n\n**ViT-B (Base):**"
      ]
    },
    {
      "cell_type": "markdown",
      "metadata": {},
      "source": [
        "```\nLayers: 12\nHidden dim: 768\nHeads: 12\nParameters: 86M\n```"
      ]
    },
    {
      "cell_type": "markdown",
      "metadata": {},
      "source": [
        "**ViT-L (Large):**"
      ]
    },
    {
      "cell_type": "markdown",
      "metadata": {},
      "source": [
        "```\nLayers: 24\nHidden dim: 1024\nHeads: 16\nParameters: 304M\n```"
      ]
    },
    {
      "cell_type": "markdown",
      "metadata": {},
      "source": [
        "**ViT-H (Huge):**"
      ]
    },
    {
      "cell_type": "markdown",
      "metadata": {},
      "source": [
        "```\nLayers: 32\nHidden dim: 1280\nHeads: 16\nParameters: 632M\n```"
      ]
    },
    {
      "cell_type": "markdown",
      "metadata": {},
      "source": [
        "**ViT with different patch sizes:**"
      ]
    },
    {
      "cell_type": "markdown",
      "metadata": {},
      "source": [
        "```\nViT-B/32: 32×32 patches\n  196/4 = 49 tokens\n  Faster, less detail\n  Better for small images\n\nViT-B/16: 16×16 patches\n  196 tokens\n  Standard choice\n  Good balance\n\nViT-B/8: 8×8 patches\n  14×14 = 196 tokens\n  Slower, more detail\n  Best quality\n```"
      ]
    },
    {
      "cell_type": "markdown",
      "metadata": {},
      "source": [
        "### Training ViT\n\n**Data requirements:**"
      ]
    },
    {
      "cell_type": "markdown",
      "metadata": {},
      "source": [
        "```\nImageNet-1K (small dataset):\n  1.4M images\n  ViT fails: 76% accuracy (worse than ResNet)\n  Reason: Not enough data to learn structure\n\nImageNet-21K (medium dataset):\n  14M images\n  ViT succeeds: 85% accuracy\n\nJFT-300M (large private dataset):\n  300M images\n  ViT excels: 90%+ accuracy\n\nPattern:\n  ViT-B requires ~10M images minimum\n  ViT-L requires ~50M images\n  ViT-H requires ~500M images\n\n  Trade-off with amount of pre-training data available\n```"
      ]
    },
    {
      "cell_type": "markdown",
      "metadata": {},
      "source": [
        "**Training details:**"
      ]
    },
    {
      "cell_type": "markdown",
      "metadata": {},
      "source": [
        "```\nOptimization:\n  Optimizer: AdamW\n  Learning rate: 0.001 (with warmup and decay)\n  Batch size: 4096 (distributed across GPUs)\n  Epochs: ~90\n\nRegularization:\n  Dropout: 0.1\n  Stochastic depth: 0.1-0.2\n  Layer scale: Trainable scale per layer\n  Mixup: Data augmentation (mix images)\n\nInitialization:\n  Patch embedding: Random normal\n  Transformer weights: Trunc normal\n  Positional encoding: Learned (not frozen)\n```"
      ]
    },
    {
      "cell_type": "markdown",
      "metadata": {},
      "source": [
        "**Fine-tuning:**"
      ]
    },
    {
      "cell_type": "markdown",
      "metadata": {},
      "source": [
        "```\nPre-trained ViT-B-32 from CLIP:\n  Trained on 400M image-text pairs\n  Good general vision understanding\n\nFine-tune on ImageNet-1K:\n  Freeze most layers\n  Train last few layers only\n  Learning rate: 0.0001 (small!)\n  Epochs: 10-20\n\n  Result: 85% accuracy\n  With only 1.4M images!\n\n  Shows power of pre-training\n```"
      ]
    },
    {
      "cell_type": "markdown",
      "metadata": {},
      "source": [
        "### Why ViT Works\n\n**Theoretical insights:**"
      ]
    },
    {
      "cell_type": "markdown",
      "metadata": {},
      "source": [
        "```\n1. Patches are tokens\n   Like words in NLP\n   Vision is just tokenized differently\n   Transformer processes any tokens equally\n\n2. Attention is universal\n   Works for images (2D spatial)\n   Works for text (1D sequential)\n   Works for audio (1D temporal)\n   No modality-specific design needed\n\n3. Scaling laws\n   Transformers scale better than CNNs\n   More data → ViT wins\n   More parameters → ViT wins\n   Smooth scaling (no sudden jumps)\n\n4. Transfer learning\n   Pre-trained representations general\n   Work across domains\n   Fine-tune quickly to new task\n```"
      ]
    },
    {
      "cell_type": "markdown",
      "metadata": {},
      "source": [
        "**Empirical validation:**"
      ]
    },
    {
      "cell_type": "markdown",
      "metadata": {},
      "source": [
        "```\nScaling laws (Dosovitski et al.):\n\nModel size vs downstream accuracy:\n\nLarge datasets (>50M images):\n  ╱ ViT trend\n ╱ CNN trend\n╱\n\nViT converges slower initially\nBut eventually dominates\nOn large data: ViT >> CNN\n\nCompute scaling:\n  Same compute budget\n  ViT often outperforms CNN\n  Even on small datasets with proper pre-training\n```"
      ]
    },
    {
      "cell_type": "markdown",
      "metadata": {},
      "source": [
        "## 10.5 Comparison and Selection Guide"
      ]
    },
    {
      "cell_type": "markdown",
      "metadata": {},
      "source": [
        "### Performance Comparison\n\n**Zero-shot classification (ImageNet):**"
      ]
    },
    {
      "cell_type": "markdown",
      "metadata": {},
      "source": [
        "```\n                    Zero-shot    Fine-tune 1%\n────────────────────────────────────────────\nResNet-50           ~30%         ~20%\nCLIP ViT-B/32       62.8%        76%\nCLIP ViT-L/14       68.3%        79%\nBLIP-2              ~71%         80%\nGPT-4V              ~85%*        ~90%*\n\n*Estimated based on capabilities\n```"
      ]
    },
    {
      "cell_type": "markdown",
      "metadata": {},
      "source": [
        "**Reasoning capability:**"
      ]
    },
    {
      "cell_type": "markdown",
      "metadata": {},
      "source": [
        "```\n                Vision    Language  Reasoning\n                Underst   Fluency   Complexity\n────────────────────────────────────────────\nCLIP            ✓✓        ✗         ✗\nViT             ✓✓✓       ✗         ✗\nBLIP-2          ✓✓        ✓✓        ✓✓\nGPT-4V          ✓✓✓       ✓✓✓       ✓✓✓\n```"
      ]
    },
    {
      "cell_type": "markdown",
      "metadata": {},
      "source": [
        "### Choosing Between Models\n\n**Decision flowchart:**"
      ]
    },
    {
      "cell_type": "markdown",
      "metadata": {},
      "source": [
        "```\n\nIs it zero-shot classification?\n│\n├─ YES → Need language grounding?\n│        │\n│        ├─ YES → CLIP (fast, simple)\n│        │\n│        └─ NO → ViT (better accuracy)\n│\n└─ NO → Need visual reasoning?\n        │\n        ├─ YES → Need language fluency?\n        │        │\n        │        ├─ YES → GPT-4V (SOTA but expensive)\n        │        │\n        │        └─ NO → BLIP-2 (good balance)\n        │\n        └─ NO → Need efficiency?\n                 │\n                 ├─ YES → BLIP-2 (fast)\n                 │\n                 └─ NO → ViT (best accuracy)\n```"
      ]
    },
    {
      "cell_type": "markdown",
      "metadata": {},
      "source": [
        "### Model Selection Guide\n\n**For production deployment:**"
      ]
    },
    {
      "cell_type": "markdown",
      "metadata": {},
      "source": [
        "```\nRequirement: Real-time inference\n  Choice: CLIP (fast, lightweight)\n  Model: CLIP ViT-B/32\n  Latency: ~50ms per image\n  Accuracy: 62% zero-shot ImageNet\n\nRequirement: High accuracy on custom task\n  Choice: ViT fine-tuned\n  Model: ViT-L pre-trained on JFT-300M\n  Latency: ~100ms per image\n  Accuracy: ~90% (with fine-tuning)\n\nRequirement: Complex visual reasoning\n  Choice: BLIP-2\n  Model: BLIP-2 (Flamingo variant)\n  Latency: ~500ms per image\n  Accuracy: 85% zero-shot VQA\n\nRequirement: State-of-the-art performance\n  Choice: GPT-4V\n  Model: GPT-4V via API\n  Latency: ~2000ms per image (API call)\n  Accuracy: ~95% on most tasks\n  Cost: ~$0.03 per image\n```"
      ]
    },
    {
      "cell_type": "markdown",
      "metadata": {},
      "source": [
        "**Trade-off matrix:**"
      ]
    },
    {
      "cell_type": "markdown",
      "metadata": {},
      "source": [
        "```\nModel      Speed  Accuracy  Reasoning  Cost   Accessibility\n────────────────────────────────────────────────────────────\nCLIP       ★★★    ★★        ★         Low    ✓ Open\nViT        ★★     ★★★       ★         Low    ✓ Open\nBLIP-2     ★      ★★★       ★★        Low    ✓ Open\nGPT-4V     ★      ★★★★      ★★★★     High   ⚠ API only\n\nLegend:\n  Speed: ★★★ = fast, ★ = slow\n  Accuracy: ★★★★ = best, ★ = okay\n  Reasoning: ★★★★ = excellent, ★ = limited\n  Cost: Low = <$1K to run, High = >$100K\n  Accessibility: ✓ = open-source, ⚠ = API-only\n```"
      ]
    },
    {
      "cell_type": "markdown",
      "metadata": {},
      "source": [
        "### Hybrid Approaches\n\n**Combining models:**"
      ]
    },
    {
      "cell_type": "markdown",
      "metadata": {},
      "source": [
        "```\nPipeline 1: CLIP for routing\n  ① Use CLIP to classify general category\n  ② Route to specialized model based on category\n  ③ Specialized model provides detailed answer\n\n  Benefit: Efficient routing\n           Specialized models for domains\n\nPipeline 2: BLIP-2 with ViT backbone\n  ① Use ViT for image encoding\n  ② Use BLIP-2 Q-Former for alignment\n  ③ Use language model for reasoning\n\n  Benefit: Best of both worlds\n           Good accuracy + reasoning\n\nPipeline 3: Ensemble\n  ① Get predictions from multiple models\n  ② Combine predictions (voting, averaging)\n  ③ Use confidence scores for weighting\n\n  Benefit: Robust predictions\n           Uncertainty estimation\n           Better than single model\n```"
      ]
    },
    {
      "cell_type": "markdown",
      "metadata": {},
      "source": [
        "**Example implementation:**"
      ]
    },
    {
      "cell_type": "code",
      "execution_count": null,
      "metadata": {},
      "outputs": [],
      "source": [
        "class HybridVisionModel:\n    \"\"\"Combine multiple vision models\"\"\"\n\n    def __init__(self):\n        self.clip = CLIPModel()\n        self.vit = ViTModel()\n        self.blip2 = BLIP2Model()\n\n    def classify_with_routing(self, image):\n        \"\"\"Route based on CLIP understanding\"\"\"\n\n        # Fast CLIP classification\n        clip_pred = self.clip.predict(image)\n\n        # Route to specialized model\n        if clip_pred['category'] == 'text_heavy':\n            # Use OCR-optimized model\n            return self.specialized_ocr_model(image)\n        elif clip_pred['category'] == 'scene_complex':\n            # Use detailed reasoning model\n            return self.blip2.analyze(image)\n        else:\n            # Use fast ViT\n            return self.vit.predict(image)\n\n    def ensemble_prediction(self, image):\n        \"\"\"Combine predictions from multiple models\"\"\"\n\n        clip_pred = self.clip.predict(image)\n        vit_pred = self.vit.predict(image)\n        blip2_pred = self.blip2.predict(image)\n\n        # Weighted ensemble\n        weights = {\n            'clip': 0.2,\n            'vit': 0.5,\n            'blip2': 0.3\n        }\n\n        ensemble_score = (\n            weights['clip'] * clip_pred['score'] +\n            weights['vit'] * vit_pred['score'] +\n            weights['blip2'] * blip2_pred['score']\n        )\n\n        return ensemble_score\n\n    def confidence_aware_selection(self, image):\n        \"\"\"Choose model based on confidence\"\"\"\n\n        clip_result = self.clip.predict(image)\n\n        # High confidence: Use fast model\n        if clip_result['confidence'] > 0.9:\n            return clip_result\n\n        # Medium confidence: Use stronger model\n        elif clip_result['confidence'] > 0.7:\n            return self.vit.predict(image)\n\n        # Low confidence: Use most powerful model\n        else:\n            return self.blip2.analyze(image)"
      ]
    },
    {
      "cell_type": "markdown",
      "metadata": {},
      "source": [
        "## Key Takeaways\n\n- **CLIP** revolutionized zero-shot transfer with language supervision\n- **BLIP-2** showed parameter-efficient multimodal learning is possible\n- **GPT-4V** demonstrated deep visual reasoning capabilities\n- **ViT** proved transformers work for vision without CNNs\n- **Trade-offs exist** between accuracy, speed, reasoning, and cost\n- **Hybrid approaches** can optimize for specific applications\n- **Model selection** depends on task requirements and constraints"
      ]
    },
    {
      "cell_type": "markdown",
      "metadata": {},
      "source": [
        "## Exercises\n\n**⭐ Beginner:**\n1. Use CLIP for zero-shot classification\n2. Compare CLIP vs ViT on different datasets\n3. Implement text template variations for CLIP\n\n**⭐⭐ Intermediate:**\n4. Fine-tune BLIP-2 on custom dataset\n5. Build ensemble of multiple models\n6. Compare inference latency across models\n\n**⭐⭐⭐ Advanced:**\n7. Implement custom routing based on CLIP understanding\n8. Build confidence-aware model selection\n9. Optimize inference pipeline for production\n\n---"
      ]
    }
  ],
  "metadata": {
    "kernelspec": {
      "display_name": "Python 3",
      "language": "python",
      "name": "python3"
    },
    "language_info": {
      "codemirror_mode": {
        "name": "ipython",
        "version": 3
      },
      "file_extension": ".py",
      "mimetype": "text/x-python",
      "name": "python",
      "nbconvert_exporter": "python",
      "pygments_lexer": "ipython3",
      "version": "3.8.5"
    }
  },
  "nbformat": 4,
  "nbformat_minor": 4
}